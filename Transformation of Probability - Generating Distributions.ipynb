{
 "cells": [
  {
   "cell_type": "markdown",
   "metadata": {},
   "source": [
    "Transformation of Probability: Generating Distributions\n",
    "======================================================\n",
    "\n",
    "There are many times when it is useful to randomly generate a set of points that have a distribution (possibly in many dimensions) that is not uniform. In contrast, the typical pseudorandom number generator in a computer generates a uniform distribution (usually numbers spread evenly between 0 and 1). How can we use a uniform random generator to get a different distribution?\n",
    "\n",
    "A common use case is to build up a 3D distribution of particles that has a given density distribution.\n",
    "\n",
    "Definitions\n",
    "-----------\n",
    "*Random deviate*: A variable that takes on a random value drawn from a probability distribution function (PDF).\n",
    "    Probability distribution $P(x)$ is defined such that $P(x)\\, dx$ is the probability of drawing a value between $x$ and $x+dx$. Probability distributions are never negative, and are normalized so that\n",
    "    $$ \\int_{-\\infty}^{+\\infty} P(x)\\, dx = 1 $$\n",
    "\n",
    "*Uniform random deviate*: A random variate whose probability distribution is uniform between some minimum and maximum (typically 0 and 1), i.e.:\n",
    "$$ P(\\xi) = \\left\\{ \\begin{array}{ll}1 & 0 \\leq \\xi < 1 \\\\ 0 & \\text{otherwise}\\end{array} \\right. $$\n",
    "I generally use $\\xi$ specifically for the uniform random deviate given above, which is what typically comes out of a random number generator."
   ]
  },
  {
   "cell_type": "markdown",
   "metadata": {},
   "source": [
    "Outline\n",
    "-------\n",
    "The basic idea with transforming between probability distributions is to imagine that you sort all of the values you might draw from each distribution, and map them onto each other by sorted order. I.e. the smallest value from distribution A should transform into the smallest value from distribution B, the 25th percentile value from distribution A should transform into the 25th percentile value from distribution B, the median value from distribution A should transform into the median value from distribution B, etc.\n",
    "\n",
    "The percentile value is also the cumulative probability -- e.g. the probability of finding a value less than or equal to the 25th percentile value is 25%! So transformation of probability is equivalent to *matching the cumulative distribution functions* (CDFs).\n",
    "\n",
    "The cumulative probability ${\\cal P}$ is simply the integral of the probability $P$:\n",
    "$$ {\\cal P}(<x) = \\int_{-\\infty}^x P(x')\\, dx' $$\n",
    "So if we want to convert between a random deviate $x$ which has a PDF $f(x)$, and a random deviate $y$ which has a PDF $g(y)$, it comes down to solving for the relation between $x$ and $y$ which satisfies\n",
    "$$ \\int_{-\\infty}^x f(x')\\, dx' = \\int_{-\\infty}^y g(y')\\, dy' $$\n",
    "This is the _Fundamental Law of Transformation of Probabilities_."
   ]
  },
  {
   "cell_type": "markdown",
   "metadata": {},
   "source": [
    "Example 1\n",
    "---------\n",
    "In this simple example, let's generate a distribution of particles with the following distribution:\n",
    "\n",
    "![Example pdf](example1-pdf.png)\n",
    "which has a pdf of the form:\n",
    "$$ g(y) \\propto \\left\\{ \\begin{array}{ll}y-10 & 10 \\le y < 15 \\\\ 0 & \\text{otherwise}\\end{array} \\right. $$\n",
    "\n",
    "### Step 1: Normalize the pdf\n",
    "All pdfs must be normalized. If we take the constant of proportionality to be $A$, normalizing means\n",
    "$$ \\int_{10}^y A (y'-10)\\, dy' = 1 $$\n",
    "$$ A \\int_0^5 y'\\, dy' = 1 $$\n",
    "$$ \\left.\\frac{A}{2} y^2 \\right|_0^5 = 1 $$\n",
    "$$ \\frac{25}{2} A = 1 $$\n",
    "$$ A = \\frac{2}{25} $$\n",
    "and so the full form of the pdf is\n",
    "$$ g(y) = \\left\\{ \\begin{array}{ll}\\frac{2}{25} (y-10) & 10 \\le y < 15 \\\\ 0 & \\text{otherwise}\\end{array} \\right. $$\n",
    "\n",
    "### Step 2: Equate the cumulative probabilities\n",
    "Use the fundamental equation of transformation of probability to relate the uniform random deviate $\\xi$ and $y$.\n",
    "$$ \\int_{-\\infty}^{\\xi} P(\\xi)\\, d\\xi = \\int_{-\\infty}^y g(y')\\, dy' $$\n",
    "Using the actual pdfs,\n",
    "$$ \\int_0^{\\xi} d\\xi = \\frac{2}{25} \\int_{10}^y (y'-10)\\, dy' $$\n",
    "$$ \\xi = \\frac{2}{25} \\int_0^{y-10} y'\\, dy' $$\n",
    "$$ \\xi = \\frac{1}{25} (y-10)^2 $$\n",
    "\n",
    "### Step 3: Invert equation to solve for the new variable\n",
    "We are given $\\xi$ from the computer and want to generate values of $y$, so we need to invert the equation to derive an equation with only $y$ on the left hand side.\n",
    "$$ (y-10)^2 = 25 \\xi $$\n",
    "$$ y = 5 \\sqrt{\\xi} + 10 $$\n",
    "\n",
    "### Step 4: Prove that it worked"
   ]
  },
  {
   "cell_type": "code",
   "execution_count": 1,
   "metadata": {
    "collapsed": true
   },
   "outputs": [],
   "source": [
    "%matplotlib inline\n",
    "import matplotlib.pyplot as plt\n",
    "import numpy as np\n",
    "from numpy.random import random"
   ]
  },
  {
   "cell_type": "code",
   "execution_count": 2,
   "metadata": {
    "collapsed": false
   },
   "outputs": [],
   "source": [
    "# Create 5000 samples from a uniform random deviate\n",
    "N = 5000\n",
    "xi = random(N)\n",
    "# Transform them\n",
    "y = 5.0 * np.sqrt(xi) + 10"
   ]
  },
  {
   "cell_type": "code",
   "execution_count": 3,
   "metadata": {
    "collapsed": false
   },
   "outputs": [
    {
     "data": {
      "text/plain": [
       "(8, 17)"
      ]
     },
     "execution_count": 3,
     "metadata": {},
     "output_type": "execute_result"
    },
    {
     "data": {
      "image/png": "[encoded data removed]",
      "text/plain": [
       "<matplotlib.figure.Figure at 0x10a61d050>"
      ]
     },
     "metadata": {},
     "output_type": "display_data"
    }
   ],
   "source": [
    "# Plot histograms\n",
    "fig = plt.figure()\n",
    "figsize = fig.get_size_inches()\n",
    "figsize[0] *= 2\n",
    "fig.set_size_inches(figsize)\n",
    "ax1 = fig.add_subplot(121)\n",
    "ax1.hist(xi)\n",
    "ax1.set_xlabel('$\\\\xi$')\n",
    "ax1.set_ylabel('$P(\\\\xi)$')\n",
    "ax1.set_xlim(-0.2,1.2)\n",
    "ax2 = fig.add_subplot(122)\n",
    "ax2.hist(y)\n",
    "ax2.set_xlabel('$y$')\n",
    "ax2.set_ylabel('$g(y)$')\n",
    "ax2.set_xlim(8,17)"
   ]
  },
  {
   "cell_type": "markdown",
   "metadata": {},
   "source": [
    "## Example 2\n",
    "The vertical distribution of stars in a disk galaxy is exponential in height above the galactic disk:\n",
    "\n",
    "$$ f(z) \\propto e^{-z/z_0} \\qquad z \\ge 0 $$\n",
    "\n",
    "### Step 1: Normalize the pdf\n",
    "Assigning the proportionality constant to $A$,\n",
    "$$ f(z) = A e^{-z/z_0} \\qquad z \\ge 0 $$\n",
    "and the normalization condition is\n",
    "$$ \\int_{0}^{\\infty} A e^{-z/z_0}\\, dz = 1 $$\n",
    "$$ \\left. - A z_0 e^{-z/z_0} \\right|_0^{\\infty} = 1 $$\n",
    "$$ A = \\frac{1}{z_0} $$\n",
    "$$ \\Rightarrow f(z) = \\frac{1}{z_0} e^{-z/z_0} \\qquad z \\ge 0 $$\n",
    "\n",
    "### Step 2: Equate the cumulative probabilities\n",
    "$$ \\int_{-\\infty}^{\\xi} P(\\xi')\\, d\\xi' = \\int_{-\\infty}^{z} f(z')\\, dz' $$\n",
    "$$ \\xi = 1 - e^{-z/z_0} $$\n",
    "\n",
    "### Step 3: Invert equation to solve for the new variable\n",
    "$$ e^{-z/z_0} = 1 - \\xi $$\n",
    "$$ -\\frac{z}{z_0} = \\ln(1 - \\xi) $$\n",
    "$$ z = -z_0 \\ln(1 - \\xi) $$\n",
    "\n",
    "**Note**: If $\\xi$ is a uniform random deviate, so is $1-\\xi$! So whenever you see $1-\\xi$ in a transformation (which often happens when exponentials are involved, like this), you can just replace it by $\\xi$! You don't have to -- the expression above will work -- but I like to because it reduces the number of calculations and therefore can provide (usually very minor) speed improvements if you are doing this a **lot**.\n",
    "\n",
    "$$ z = -z_0 \\ln \\xi $$\n",
    "\n",
    "### Step 4: Prove that it worked"
   ]
  },
  {
   "cell_type": "code",
   "execution_count": 4,
   "metadata": {
    "collapsed": false
   },
   "outputs": [],
   "source": [
    "# Create 5000 samples from a uniform random deviate\n",
    "N = 5000\n",
    "xi = random(N)\n",
    "# Transform them. Use z0=0.5\n",
    "z0 = 0.5\n",
    "z = -0.5 * np.log(xi)"
   ]
  },
  {
   "cell_type": "code",
   "execution_count": 5,
   "metadata": {
    "collapsed": false
   },
   "outputs": [
    {
     "data": {
      "image/png": "[encoded data removed]",
      "text/plain": [
       "<matplotlib.figure.Figure at 0x10cb7ead0>"
      ]
     },
     "metadata": {},
     "output_type": "display_data"
    }
   ],
   "source": [
    "# Plot histograms\n",
    "fig = plt.figure()\n",
    "figsize = fig.get_size_inches()\n",
    "figsize[0] *= 2\n",
    "fig.set_size_inches(figsize)\n",
    "ax1 = fig.add_subplot(121)\n",
    "ax1.hist(xi)\n",
    "ax1.set_xlabel('$\\\\xi$')\n",
    "ax1.set_ylabel('$P(\\\\xi)$')\n",
    "ax1.set_xlim(-0.2,1.2)\n",
    "ax2 = fig.add_subplot(122)\n",
    "ax2.hist(z)\n",
    "ax2.set_xlabel('$z$')\n",
    "ax2.set_ylabel('$f(z)$')\n",
    "ax2.set_xlim(0,5)\n",
    "ax2.set_yscale('log')"
   ]
  },
  {
   "cell_type": "markdown",
   "metadata": {},
   "source": [
    "## Inverting the equation numerically\n",
    "Sometimes after Step 2, you get an equation that has no closed form solution for the new variable. In these cases, you can still do the transformation by inverting the equation numerically via interpolation. For example, let's say that the equation you need to invert is\n",
    "$$ \\xi = e^{2a} + a $$\n",
    "Although there is no closed form solution for $a$, it is not hard to numerically interpolate the equation. The first thing we need to do is look at the relationship so we understand the range of possible values of $a$. This will require some experimentation!"
   ]
  },
  {
   "cell_type": "code",
   "execution_count": 6,
   "metadata": {
    "collapsed": false
   },
   "outputs": [
    {
     "data": {
      "text/plain": [
       "<matplotlib.text.Text at 0x10d762b90>"
      ]
     },
     "execution_count": 6,
     "metadata": {},
     "output_type": "execute_result"
    },
    {
     "data": {
      "image/png": "[encoded data removed]",
      "text/plain": [
       "<matplotlib.figure.Figure at 0x1037d4710>"
      ]
     },
     "metadata": {},
     "output_type": "display_data"
    }
   ],
   "source": [
    "# Plot the relationship between xi and a. We need to sample a really broad range of a at first\n",
    "# so we can make sure that we capture the relevant range of 0 < xi < 1\n",
    "a_possible = np.arange(-10,10,0.1)\n",
    "# What are the values of xi over this range?\n",
    "xi_possible = np.exp(2.0*a_possible) + a_possible\n",
    "# Plot them up and see what we get!\n",
    "plt.plot(a_possible, xi_possible)\n",
    "plt.xlabel('a')\n",
    "plt.ylabel('$\\\\xi$')\n"
   ]
  },
  {
   "cell_type": "markdown",
   "metadata": {},
   "source": [
    "Woah... clearly we've gone out way too far! Let's shrink our range of possible $a$."
   ]
  },
  {
   "cell_type": "code",
   "execution_count": 7,
   "metadata": {
    "collapsed": false
   },
   "outputs": [
    {
     "data": {
      "text/plain": [
       "<matplotlib.text.Text at 0x10cb71150>"
      ]
     },
     "execution_count": 7,
     "metadata": {},
     "output_type": "execute_result"
    },
    {
     "data": {
      "image/png": "[encoded data removed]",
      "text/plain": [
       "<matplotlib.figure.Figure at 0x10cb10490>"
      ]
     },
     "metadata": {},
     "output_type": "display_data"
    }
   ],
   "source": [
    "a_possible = np.arange(-1,1,0.01)\n",
    "xi_possible = np.exp(2.0*a_possible) + a_possible\n",
    "plt.plot(a_possible, xi_possible)\n",
    "plt.xlabel('a')\n",
    "plt.ylabel('$\\\\xi$')\n"
   ]
  },
  {
   "cell_type": "markdown",
   "metadata": {},
   "source": [
    "That's better! It looks like we can cover the whole range if we restrict $a$ to the interval from -1 to +0.5 (it doesn't hurt to go slightly farther than you need).\n",
    "\n",
    "So now we need to finely sample the relevant range."
   ]
  },
  {
   "cell_type": "code",
   "execution_count": 8,
   "metadata": {
    "collapsed": true
   },
   "outputs": [],
   "source": [
    "# Use samples of size 0.01 for a between -1 and 0.5\n",
    "a_sample = np.arange(-1, 0.5, 0.01)\n",
    "# Transform to xi\n",
    "xi_sample = np.exp(2.0*a_sample) + a_sample"
   ]
  },
  {
   "cell_type": "markdown",
   "metadata": {},
   "source": [
    "Now that we have this relationship sampled, we can flip the axes and consider $\\xi$ to be the independent variable and $a$ to be the dependent variable!"
   ]
  },
  {
   "cell_type": "code",
   "execution_count": 9,
   "metadata": {
    "collapsed": false
   },
   "outputs": [
    {
     "data": {
      "text/plain": [
       "<matplotlib.text.Text at 0x10ca59fd0>"
      ]
     },
     "execution_count": 9,
     "metadata": {},
     "output_type": "execute_result"
    },
    {
     "data": {
      "image/png": "[encoded data removed]",
      "text/plain": [
       "<matplotlib.figure.Figure at 0x10d9db050>"
      ]
     },
     "metadata": {},
     "output_type": "display_data"
    }
   ],
   "source": [
    "plt.plot(xi_sample, a_sample)\n",
    "plt.xlabel('$\\\\xi$')\n",
    "plt.ylabel('a')"
   ]
  },
  {
   "cell_type": "markdown",
   "metadata": {},
   "source": [
    "From these samples, we build an interpolation function which we can use."
   ]
  },
  {
   "cell_type": "code",
   "execution_count": 10,
   "metadata": {
    "collapsed": true
   },
   "outputs": [],
   "source": [
    "from scipy.interpolate import interp1d\n",
    "a_from_xi = interp1d(xi_sample, a_sample)"
   ]
  },
  {
   "cell_type": "markdown",
   "metadata": {},
   "source": [
    "Now we can go to Step 4: Prove that it worked!"
   ]
  },
  {
   "cell_type": "code",
   "execution_count": 11,
   "metadata": {
    "collapsed": true
   },
   "outputs": [],
   "source": [
    "# Create 5000 samples from a uniform random deviate\n",
    "N = 5000\n",
    "xi = random(N)\n",
    "# Transform them\n",
    "a = a_from_xi(xi)"
   ]
  },
  {
   "cell_type": "code",
   "execution_count": 12,
   "metadata": {
    "collapsed": false
   },
   "outputs": [
    {
     "data": {
      "text/plain": [
       "(-0.8, 0.2)"
      ]
     },
     "execution_count": 12,
     "metadata": {},
     "output_type": "execute_result"
    },
    {
     "data": {
      "image/png": "[encoded data removed]",
      "text/plain": [
       "<matplotlib.figure.Figure at 0x10ee0fc10>"
      ]
     },
     "metadata": {},
     "output_type": "display_data"
    }
   ],
   "source": [
    "# Plot histograms\n",
    "fig = plt.figure()\n",
    "figsize = fig.get_size_inches()\n",
    "figsize[0] *= 2\n",
    "fig.set_size_inches(figsize)\n",
    "ax1 = fig.add_subplot(121)\n",
    "ax1.hist(xi)\n",
    "ax1.set_xlabel('$\\\\xi$')\n",
    "ax1.set_ylabel('$P(\\\\xi)$')\n",
    "ax1.set_xlim(-0.2,1.2)\n",
    "ax2 = fig.add_subplot(122)\n",
    "ax2.hist(a)\n",
    "ax2.set_xlabel('$a$')\n",
    "ax2.set_ylabel('$f(a)$')\n",
    "ax2.set_xlim(-0.8,0.2)"
   ]
  },
  {
   "cell_type": "markdown",
   "metadata": {},
   "source": [
    "## Recreating empirical distributions\n",
    "This method of using numerical interpolation to invert the cdf is extremely powerful. As long as you have the cdf, you can use it, *even if you don't know where the cdf came from*! For example, let's say you have a bunch of empirical data points, and you want to generate a new set of data that looks statistically like your empirical data, but you don't know what distribution the original data were drawn from. This sounds like it should be impossible, but it's actually quite easy!\n",
    "\n",
    "For example, I have generated the following data samples that have an irregular but clearly structured distribution.\n"
   ]
  },
  {
   "cell_type": "code",
   "execution_count": 13,
   "metadata": {
    "collapsed": false
   },
   "outputs": [
    {
     "data": {
      "text/plain": [
       "(array([ 2.,  1.,  1.,  1.,  3.,  0.,  0.,  0.,  0.,  7.]),\n",
       " array([  1.6 ,   2.47,   3.34,   4.21,   5.08,   5.95,   6.82,   7.69,\n",
       "          8.56,   9.43,  10.3 ]),\n",
       " <a list of 10 Patch objects>)"
      ]
     },
     "execution_count": 13,
     "metadata": {},
     "output_type": "execute_result"
    },
    {
     "data": {
      "image/png": "[encoded data removed]",
      "text/plain": [
       "<matplotlib.figure.Figure at 0x10d945390>"
      ]
     },
     "metadata": {},
     "output_type": "display_data"
    }
   ],
   "source": [
    "empirical_data = [10.1, 5.3, 2.8, 9.8, 3.6, 5.4, 9.8, 1.6, 10.3, 5.0, 9.9, 2.4, 10.2, 5.3, 10.1]\n",
    "plt.hist(empirical_data)"
   ]
  },
  {
   "cell_type": "markdown",
   "metadata": {},
   "source": [
    "The following bit of python code will generate the cdf of any set of data samples."
   ]
  },
  {
   "cell_type": "code",
   "execution_count": 14,
   "metadata": {
    "collapsed": false
   },
   "outputs": [
    {
     "data": {
      "text/plain": [
       "<matplotlib.text.Text at 0x10f0ef050>"
      ]
     },
     "execution_count": 14,
     "metadata": {},
     "output_type": "execute_result"
    },
    {
     "data": {
      "image/png": "[encoded data removed]",
      "text/plain": [
       "<matplotlib.figure.Figure at 0x10efc7150>"
      ]
     },
     "metadata": {},
     "output_type": "display_data"
    }
   ],
   "source": [
    "cdf_x = sorted(empirical_data)\n",
    "cdf_y = np.arange(len(cdf_x))/float(len(cdf_x)-1)\n",
    "plt.plot(cdf_x, cdf_y)\n",
    "plt.xlabel('$x$')\n",
    "plt.ylabel('${\\cal P}(<x)$')"
   ]
  },
  {
   "cell_type": "markdown",
   "metadata": {},
   "source": [
    "The fundmental transformation of probabilities is equivalent to\n",
    "$$ \\xi = {\\cal P}(<x) $$\n",
    "so we just solve this by interpolation and prove that it worked!"
   ]
  },
  {
   "cell_type": "code",
   "execution_count": 15,
   "metadata": {
    "collapsed": true
   },
   "outputs": [],
   "source": [
    "x_from_xi = interp1d(cdf_y, cdf_x)\n",
    "\n",
    "# Create 5000 samples from a uniform random deviate\n",
    "N = 5000\n",
    "xi = random(N)\n",
    "# Transform them\n",
    "x = x_from_xi(xi)"
   ]
  },
  {
   "cell_type": "code",
   "execution_count": 16,
   "metadata": {
    "collapsed": false
   },
   "outputs": [
    {
     "data": {
      "text/plain": [
       "<matplotlib.text.Text at 0x10f39f2d0>"
      ]
     },
     "execution_count": 16,
     "metadata": {},
     "output_type": "execute_result"
    },
    {
     "data": {
      "image/png": "[encoded data removed]",
      "text/plain": [
       "<matplotlib.figure.Figure at 0x10f0fba50>"
      ]
     },
     "metadata": {},
     "output_type": "display_data"
    }
   ],
   "source": [
    "# Plot histograms\n",
    "fig = plt.figure()\n",
    "figsize = fig.get_size_inches()\n",
    "figsize[0] *= 2\n",
    "fig.set_size_inches(figsize)\n",
    "ax1 = fig.add_subplot(121)\n",
    "ax1.hist(xi)\n",
    "ax1.set_xlabel('$\\\\xi$')\n",
    "ax1.set_ylabel('$P(\\\\xi)$')\n",
    "ax1.set_xlim(-0.2,1.2)\n",
    "ax2 = fig.add_subplot(122)\n",
    "ax2.hist(x)\n",
    "ax2.set_xlabel('$x$')\n",
    "ax2.set_ylabel('$P(x)$')"
   ]
  },
  {
   "cell_type": "markdown",
   "metadata": {},
   "source": [
    "Magic!!\n",
    "\n",
    "Note that your ability to reproduce the features in the original data is only as good as the original data. If the original data does not have enough samples to reveal fine structure, that fine structure will also be missing from your randomly generated data. It is also hard to reproduce low-probability tails correctly, again because they are often insufficiently sampled in the original data."
   ]
  },
  {
   "cell_type": "markdown",
   "metadata": {},
   "source": [
    "## Density and Probability\n",
    "Often when we create particle distributions, our goal is to generate a certain *density* distribution $\\rho(\\vec{r})$, which is not the same as a *probability* distribution.\n",
    "\n",
    "Consider the mass $dM$ in an infinitessimal volume $d^3r$:\n",
    "$$ dM = \\rho(\\vec{r})\\, d^3r $$\n",
    "If we sample the density distribution using $N$ particles of mass $m$, which are distributed according to a pdf $P(a_1, a_2, a_3)$ in 3 coordinates (which could be $x$, $y$, $z$ if working in Cartesian coordintes, but could also be $r$, $\\theta$, $\\phi$ in spherical coordiantes, etc), then that mass is also given by\n",
    "$$ dM = N m \\, P(a_1, a_2, a_3) \\, da_1\\, da_2\\, da_3 $$\n",
    "\n",
    "For example, consider working in spherical coordinates, and trying to sample an isothermal density distribution:\n",
    "$$ \\rho(r) \\propto r^{-2} $$\n",
    "Looking at the two definitions of $dM$:\n",
    "$$ dM = A r^{-2} d^3r = A r^{-2} \\, r^2\\, \\sin\\theta\\, d\\theta\\, d\\phi\\, dr $$\n",
    "$$ = N m \\, P(r, \\theta\\, \\phi)\\, dr\\, d\\theta\\, d\\phi $$\n",
    "\n",
    "Ignoring the normalization constant, which depends on the number of particles that you are sampling, it is clear that we can break the pdf $P(r, \\theta, \\phi)$ into individual pdfs for each coordinate on its own:\n",
    "$$ P(r, \\theta, \\phi) = P(r)\\, P(\\theta)\\, P(\\phi) $$\n",
    "where\n",
    "$$ P(r) = 1 $$\n",
    "$$ P(\\theta) = \\sin\\theta $$\n",
    "$$ P(\\phi) = 1 $$\n",
    "**Note**: $P(r)=1$ means that $r$ is a uniform random deviate, even though the density falls off as $r^{-2}$, because of the $r^2$ increase in the volume element!"
   ]
  },
  {
   "cell_type": "code",
   "execution_count": null,
   "metadata": {
    "collapsed": true
   },
   "outputs": [],
   "source": []
  }
 ],
 "metadata": {
  "kernelspec": {
   "display_name": "Python 2",
   "language": "python",
   "name": "python2"
  },
  "language_info": {
   "codemirror_mode": {
    "name": "ipython",
    "version": 2
   },
   "file_extension": ".py",
   "mimetype": "text/x-python",
   "name": "python",
   "nbconvert_exporter": "python",
   "pygments_lexer": "ipython2",
   "version": "2.7.11"
  }
 },
 "nbformat": 4,
 "nbformat_minor": 0
}
