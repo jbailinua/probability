{
 "cells": [
  {
   "cell_type": "markdown",
   "metadata": {},
   "source": [
    "Transformation of Probability: Generating Non-Uniform Random Numbers\n",
    "======================================================\n",
    "\n",
    "There are many times when it is useful to randomly generate a set of numbers that have a distribution that is not uniform. In contrast, the typical pseudorandom number generator in a computer generates a uniform distribution (usually numbers spread evenly between 0 and 1). How can we use a uniform random generator to get a different distribution?\n",
    "\n",
    "There are a variety of techniques that can be used, but a particularly powerful and general one uses *transformation of probability*.\n",
    "\n",
    "A common use case is in astrophysics simulations is to build up a 3D distribution of particles that has a given density distribution.\n",
    "\n",
    "Definitions\n",
    "-----------\n",
    "*Random deviate*: A variable that takes on a random value drawn from a probability distribution function (PDF).\n",
    "    Probability distribution $P(x)$ is defined such that $P(x)\\, dx$ is the probability of drawing a value between $x$ and $x+dx$. Probability distributions are never negative, and are normalized so that\n",
    "    $$ \\int_{-\\infty}^{+\\infty} P(x)\\, dx = 1 $$\n",
    "\n",
    "*Uniform random deviate*: A random variate whose probability distribution is uniform between some minimum and maximum (typically 0 and 1), i.e.:\n",
    "$$ P(\\xi) = \\left\\{ \\begin{array}{ll}1 & 0 \\leq \\xi < 1 \\\\ 0 & \\text{otherwise}\\end{array} \\right. $$\n",
    "I generally use $\\xi$ specifically for the uniform random deviate given above, which is what typically comes out of a random number generator (e.g. numpy.random.random in python, or rand() in C)."
   ]
  },
  {
   "cell_type": "markdown",
   "metadata": {},
   "source": [
    "Outline\n",
    "-------\n",
    "The basic idea with transforming between probability distributions is to imagine that you sort all of the values you might draw from each distribution, and map them onto each other by sorted order. I.e. the smallest value from distribution A should transform into the smallest value from distribution B, the 25th percentile value from distribution A should transform into the 25th percentile value from distribution B, the median value from distribution A should transform into the median value from distribution B, etc.\n",
    "\n",
    "The percentile value is also the cumulative probability -- e.g. the probability of finding a value less than or equal to the 25th percentile value is 25%! So transformation of probability is equivalent to *matching the cumulative distribution functions* (CDFs).\n",
    "\n",
    "The cumulative probability ${\\cal P}$ is simply the integral of the probability $P$:\n",
    "$$ {\\cal P}(<x) = \\int_{-\\infty}^x P(x')\\, dx' $$\n",
    "So if we want to convert between a random deviate $x$ which has a PDF $f(x)$, and a random deviate $y$ which has a PDF $g(y)$, it comes down to solving for the relation between $x$ and $y$ that satisfies\n",
    "$$ \\int_{-\\infty}^x f(x')\\, dx' = \\int_{-\\infty}^y g(y')\\, dy' $$\n",
    "This is the _Fundamental Law of Transformation of Probabilities_."
   ]
  },
  {
   "cell_type": "markdown",
   "metadata": {},
   "source": [
    "Example 1\n",
    "---------\n",
    "In this simple example, let's generate a distribution of random numbers with the following distribution:\n",
    "\n",
    "![Example pdf that rises linearly from from y=10 to y=15](example1-pdf.png)\n",
    "which has a PDF of the form:\n",
    "$$ g(y) \\propto \\left\\{ \\begin{array}{ll}y-10 & 10 \\le y < 15 \\\\ 0 & \\text{otherwise}\\end{array} \\right. $$\n",
    "\n",
    "### Step 1: Normalize the PDF\n",
    "All pdfs must be normalized. If we take the constant of proportionality to be $A$, normalizing means\n",
    "$$ \\int_{10}^{15} A (y-10)\\, dy = 1 $$\n",
    "$$ A \\int_0^5 y\\, dy = 1 $$\n",
    "$$ \\left.\\frac{A}{2} y^2 \\right|_0^5 = 1 $$\n",
    "$$ \\frac{25}{2} A = 1 $$\n",
    "$$ A = \\frac{2}{25} $$\n",
    "and so the full form of the PDF is\n",
    "$$ g(y) = \\left\\{ \\begin{array}{ll}\\frac{2}{25} (y-10) & 10 \\le y < 15 \\\\ 0 & \\text{otherwise}\\end{array} \\right. $$\n",
    "\n",
    "### Step 2: Equate the cumulative probabilities\n",
    "Use the fundamental equation of transformation of probability to relate the uniform random deviate $\\xi$ and $y$.\n",
    "$$ \\int_{-\\infty}^{\\xi} P(\\xi')\\, d\\xi' = \\int_{-\\infty}^y g(y')\\, dy' $$\n",
    "Using the actual PDFs,\n",
    "$$ \\int_0^{\\xi} d\\xi' = \\frac{2}{25} \\int_{10}^y (y'-10)\\, dy' $$\n",
    "$$ \\xi = \\frac{2}{25} \\int_0^{y-10} y'\\, dy' $$\n",
    "Note that for the uniform random deviate, the left hand side of this equation is always just $\\xi$.\n",
    "$$ \\xi = \\frac{1}{25} (y-10)^2 $$\n",
    "\n",
    "### Step 3: Invert equation to solve for the new variable\n",
    "We are given $\\xi$ from the computer and want to generate values of $y$, so we need to invert the equation to derive an equation with only $y$ on the left hand side.\n",
    "$$ (y-10)^2 = 25 \\xi $$\n",
    "$$ y = 5 \\sqrt{\\xi} + 10 $$\n",
    "\n",
    "### Step 4: Prove that it worked"
   ]
  },
  {
   "cell_type": "code",
   "execution_count": 1,
   "metadata": {
    "collapsed": true
   },
   "outputs": [],
   "source": [
    "%matplotlib inline\n",
    "import matplotlib.pyplot as plt\n",
    "import numpy as np\n",
    "from numpy.random import random"
   ]
  },
  {
   "cell_type": "code",
   "execution_count": 2,
   "metadata": {
    "collapsed": false
   },
   "outputs": [],
   "source": [
    "# Create 5000 samples from a uniform random deviate\n",
    "N = 5000\n",
    "xi = random(N)\n",
    "# Transform them\n",
    "y = 5.0 * np.sqrt(xi) + 10"
   ]
  },
  {
   "cell_type": "code",
   "execution_count": 3,
   "metadata": {
    "collapsed": false
   },
   "outputs": [
    {
     "data": {
      "text/plain": [
       "(8, 17)"
      ]
     },
     "execution_count": 3,
     "metadata": {},
     "output_type": "execute_result"
    },
    {
     "data": {
      "image/png": "[encoded data removed]",
      "text/plain": [
       "<matplotlib.figure.Figure at 0x10a534090>"
      ]
     },
     "metadata": {},
     "output_type": "display_data"
    }
   ],
   "source": [
    "# Plot histograms\n",
    "fig = plt.figure()\n",
    "figsize = fig.get_size_inches()\n",
    "figsize[0] *= 2\n",
    "fig.set_size_inches(figsize)\n",
    "ax1 = fig.add_subplot(121)\n",
    "ax1.hist(xi)\n",
    "ax1.set_xlabel('$\\\\xi$')\n",
    "ax1.set_ylabel('$P(\\\\xi)$')\n",
    "ax1.set_xlim(-0.2,1.2)\n",
    "ax2 = fig.add_subplot(122)\n",
    "ax2.hist(y)\n",
    "ax2.set_xlabel('$y$')\n",
    "ax2.set_ylabel('$g(y)$')\n",
    "ax2.set_xlim(8,17)"
   ]
  },
  {
   "cell_type": "markdown",
   "metadata": {},
   "source": [
    "## Example 2\n",
    "The vertical distribution of stars in a disk galaxy is exponential in height above the galactic disk:\n",
    "\n",
    "$$ f(z) \\propto e^{-z/z_0} \\qquad z \\ge 0 $$\n",
    "\n",
    "### Step 1: Normalize the PDF\n",
    "Assigning the proportionality constant to $A$,\n",
    "$$ f(z) = A e^{-z/z_0} \\qquad z \\ge 0 $$\n",
    "The normalization condition is\n",
    "$$ \\int_{0}^{\\infty} A e^{-z/z_0}\\, dz = 1 $$\n",
    "$$ \\left. - A z_0 e^{-z/z_0} \\right|_0^{\\infty} = 1 $$\n",
    "$$ A = \\frac{1}{z_0} $$\n",
    "$$ \\Rightarrow f(z) = \\frac{1}{z_0} e^{-z/z_0} \\qquad z \\ge 0 $$\n",
    "\n",
    "### Step 2: Equate the cumulative probabilities\n",
    "As in Example 1, the left hand side of the equation is always just $\\xi$.\n",
    "$$ \\xi = \\int_{-\\infty}^{z} f(z')\\, dz' = \\frac{1}{z_0} \\int_0^z e^{-z'/z_0}\\, dz' $$\n",
    "$$ \\xi = -\\left. e^{-z'/z_0} \\right|_0^z $$\n",
    "$$ \\xi = 1 - e^{-z/z_0} $$\n",
    "\n",
    "### Step 3: Invert equation to solve for the new variable\n",
    "$$ e^{-z/z_0} = 1 - \\xi $$\n",
    "$$ -\\frac{z}{z_0} = \\ln(1 - \\xi) $$\n",
    "$$ z = -z_0 \\ln(1 - \\xi) $$\n",
    "\n",
    "**Note**: If $\\xi$ is a uniform random deviate, i.e. uniformly distributed between 0 and 1, then so is $1-\\xi$. So whenever you see $1-\\xi$ in a transformation (which often happens when exponentials are involved, like this), you can just replace it by $\\xi$! You don't have to - the expression above will work - but I like to because it reduces the number of calculations and therefore can provide (usually very minor) speed improvements.\n",
    "\n",
    "$$ z = -z_0 \\ln \\xi $$\n",
    "\n",
    "### Step 4: Prove that it worked"
   ]
  },
  {
   "cell_type": "code",
   "execution_count": 4,
   "metadata": {
    "collapsed": false
   },
   "outputs": [],
   "source": [
    "# Create 5000 samples from a uniform random deviate\n",
    "N = 5000\n",
    "xi = random(N)\n",
    "# Transform them. Use z0=0.5\n",
    "z0 = 0.5\n",
    "z = -z0 * np.log(xi)"
   ]
  },
  {
   "cell_type": "code",
   "execution_count": 5,
   "metadata": {
    "collapsed": false
   },
   "outputs": [
    {
     "data": {
      "image/png": "[encoded data removed]",
      "text/plain": [
       "<matplotlib.figure.Figure at 0x10d4bce90>"
      ]
     },
     "metadata": {},
     "output_type": "display_data"
    }
   ],
   "source": [
    "# Plot histograms\n",
    "fig = plt.figure()\n",
    "figsize = fig.get_size_inches()\n",
    "figsize[0] *= 2\n",
    "fig.set_size_inches(figsize)\n",
    "ax1 = fig.add_subplot(121)\n",
    "ax1.hist(xi)\n",
    "ax1.set_xlabel('$\\\\xi$')\n",
    "ax1.set_ylabel('$P(\\\\xi)$')\n",
    "ax1.set_xlim(-0.2,1.2)\n",
    "ax2 = fig.add_subplot(122)\n",
    "ax2.hist(z)\n",
    "ax2.set_xlabel('$z$')\n",
    "ax2.set_ylabel('$f(z)$')\n",
    "ax2.set_xlim(0,5)\n",
    "ax2.set_yscale('log')"
   ]
  },
  {
   "cell_type": "markdown",
   "metadata": {},
   "source": [
    "## Inverting the equation numerically\n",
    "Sometimes after Step 2, you get an equation that has no closed form solution for the new variable. In these cases, you can still do the transformation by inverting the equation numerically via interpolation. For example, let's say that your desired PDF is\n",
    "$$ P(a) \\propto \\left\\{ \\begin{array}{ll} 1 + e^a & 0 \\le a < 2 \\\\ 0 & \\text{otherwise}\\end{array} \\right. $$\n",
    "\n",
    "![Example pdf](examplenuminv-pdf.png)\n",
    "\n",
    "**Exercise**: Prove that equating the CDFs (i.e. the end of Step 2) gives the following equation:\n",
    "$$ \\xi = \\frac{a + e^a - 1}{1 + e^2} $$\n",
    "\n",
    "There is no closed form solution for $a$. However, it is not hard to numerically interpolate the equation."
   ]
  },
  {
   "cell_type": "markdown",
   "metadata": {},
   "source": [
    "Let's look at the relationship between $a$ and $\\xi$. We know that the relevant range is $0 \\le a < 2$, but it is useful to go slightly beyond this range so that interpolation at the endpoints is well-defined. We want to finely sample the region (in this case I use step sizes of 0.01 in $a$) for good interpolation."
   ]
  },
  {
   "cell_type": "code",
   "execution_count": 6,
   "metadata": {
    "collapsed": true
   },
   "outputs": [],
   "source": [
    "# Relevant range of a\n",
    "a_sample = np.arange(-0.2,2.2,0.01)\n",
    "# Transform to xi\n",
    "xi_sample = (a_sample + np.exp(a_sample) - 1.0)/(1.0 + np.exp(2.0))"
   ]
  },
  {
   "cell_type": "code",
   "execution_count": 7,
   "metadata": {
    "collapsed": false
   },
   "outputs": [
    {
     "data": {
      "text/plain": [
       "<matplotlib.text.Text at 0x10d59a190>"
      ]
     },
     "execution_count": 7,
     "metadata": {},
     "output_type": "execute_result"
    },
    {
     "data": {
      "image/png": "[encoded data removed]",
      "text/plain": [
       "<matplotlib.figure.Figure at 0x10d5a2750>"
      ]
     },
     "metadata": {},
     "output_type": "display_data"
    }
   ],
   "source": [
    "# Plot the relationship\n",
    "plt.plot(a_sample, xi_sample)\n",
    "plt.xlabel('a')\n",
    "plt.ylabel('$\\\\xi$')"
   ]
  },
  {
   "cell_type": "markdown",
   "metadata": {},
   "source": [
    "Now that we have this relationship sampled, we can flip the axes and consider $\\xi$ to be the independent variable and $a$ to be the dependent variable!"
   ]
  },
  {
   "cell_type": "code",
   "execution_count": 8,
   "metadata": {
    "collapsed": false
   },
   "outputs": [
    {
     "data": {
      "text/plain": [
       "<matplotlib.text.Text at 0x10ca27050>"
      ]
     },
     "execution_count": 8,
     "metadata": {},
     "output_type": "execute_result"
    },
    {
     "data": {
      "image/png": "[encoded data removed]",
      "text/plain": [
       "<matplotlib.figure.Figure at 0x10c9a0a50>"
      ]
     },
     "metadata": {},
     "output_type": "display_data"
    }
   ],
   "source": [
    "plt.plot(xi_sample, a_sample)\n",
    "plt.xlabel('$\\\\xi$')\n",
    "plt.ylabel('a')"
   ]
  },
  {
   "cell_type": "markdown",
   "metadata": {},
   "source": [
    "From these samples, we build an interpolation function which will give us $a$ for any value of $\\xi$."
   ]
  },
  {
   "cell_type": "code",
   "execution_count": 9,
   "metadata": {
    "collapsed": true
   },
   "outputs": [],
   "source": [
    "from scipy.interpolate import interp1d\n",
    "a_from_xi = interp1d(xi_sample, a_sample)"
   ]
  },
  {
   "cell_type": "markdown",
   "metadata": {},
   "source": [
    "Now we can go to Step 4: Prove that it worked!"
   ]
  },
  {
   "cell_type": "code",
   "execution_count": 10,
   "metadata": {
    "collapsed": true
   },
   "outputs": [],
   "source": [
    "# Create 5000 samples from a uniform random deviate\n",
    "N = 5000\n",
    "xi = random(N)\n",
    "# Transform them\n",
    "a = a_from_xi(xi)"
   ]
  },
  {
   "cell_type": "code",
   "execution_count": 11,
   "metadata": {
    "collapsed": false
   },
   "outputs": [
    {
     "data": {
      "text/plain": [
       "(-0.2, 2.2)"
      ]
     },
     "execution_count": 11,
     "metadata": {},
     "output_type": "execute_result"
    },
    {
     "data": {
      "image/png": "[encoded data removed]",
      "text/plain": [
       "<matplotlib.figure.Figure at 0x10f52d090>"
      ]
     },
     "metadata": {},
     "output_type": "display_data"
    }
   ],
   "source": [
    "# Plot histograms\n",
    "fig = plt.figure()\n",
    "figsize = fig.get_size_inches()\n",
    "figsize[0] *= 2\n",
    "fig.set_size_inches(figsize)\n",
    "ax1 = fig.add_subplot(121)\n",
    "ax1.hist(xi)\n",
    "ax1.set_xlabel('$\\\\xi$')\n",
    "ax1.set_ylabel('$P(\\\\xi)$')\n",
    "ax1.set_xlim(-0.2,1.2)\n",
    "ax2 = fig.add_subplot(122)\n",
    "ax2.hist(a)\n",
    "ax2.set_xlabel('$a$')\n",
    "ax2.set_ylabel('$P(a)$')\n",
    "ax2.set_xlim(-0.2,2.2)"
   ]
  },
  {
   "cell_type": "markdown",
   "metadata": {},
   "source": [
    "## Recreating empirical distributions\n",
    "This method of using numerical interpolation to invert the CDF is extremely powerful. As long as you have the CDF, you can use it, *even if you don't know where the CDF came from*! For example, let's say you have a bunch of empirical data points, and you want to generate a new set of data that looks statistically like your empirical data, but you don't know what distribution the original data were drawn from. This sounds like it should be impossible, but it's actually quite easy!\n",
    "\n",
    "For example, I have generated the following data samples that have an irregular but clearly structured distribution.\n"
   ]
  },
  {
   "cell_type": "code",
   "execution_count": 12,
   "metadata": {
    "collapsed": false
   },
   "outputs": [
    {
     "data": {
      "text/plain": [
       "(array([ 2.,  1.,  1.,  1.,  3.,  0.,  0.,  0.,  0.,  7.]),\n",
       " array([  1.6 ,   2.47,   3.34,   4.21,   5.08,   5.95,   6.82,   7.69,\n",
       "          8.56,   9.43,  10.3 ]),\n",
       " <a list of 10 Patch objects>)"
      ]
     },
     "execution_count": 12,
     "metadata": {},
     "output_type": "execute_result"
    },
    {
     "data": {
      "image/png": "[encoded data removed]",
      "text/plain": [
       "<matplotlib.figure.Figure at 0x10f514c50>"
      ]
     },
     "metadata": {},
     "output_type": "display_data"
    }
   ],
   "source": [
    "empirical_data = [10.1, 5.3, 2.8, 9.8, 3.6, 5.4, 9.8, 1.6, 10.3, 5.0, 9.9, 2.4, 10.2, 5.3, 10.1]\n",
    "plt.hist(empirical_data)"
   ]
  },
  {
   "cell_type": "markdown",
   "metadata": {},
   "source": [
    "The following bit of python code will generate the CDF of any set of data samples.\n",
    "\n",
    "(see https://stackoverflow.com/questions/24788200/calculate-the-cumulative-distribution-function-cdf-in-python)"
   ]
  },
  {
   "cell_type": "code",
   "execution_count": 13,
   "metadata": {
    "collapsed": false
   },
   "outputs": [
    {
     "data": {
      "text/plain": [
       "<matplotlib.text.Text at 0x10f733290>"
      ]
     },
     "execution_count": 13,
     "metadata": {},
     "output_type": "execute_result"
    },
    {
     "data": {
      "image/png": "[encoded data removed]",
      "text/plain": [
       "<matplotlib.figure.Figure at 0x10f7441d0>"
      ]
     },
     "metadata": {},
     "output_type": "display_data"
    }
   ],
   "source": [
    "cdf_x = sorted(empirical_data)\n",
    "cdf_y = np.arange(len(cdf_x))/float(len(cdf_x)-1)\n",
    "plt.plot(cdf_x, cdf_y)\n",
    "plt.xlabel('$x$')\n",
    "plt.ylabel('${\\cal P}(<x)$')"
   ]
  },
  {
   "cell_type": "markdown",
   "metadata": {},
   "source": [
    "The fundamental law of transformation of probabilities is equivalent to\n",
    "$$ \\xi = {\\cal P}(<x) $$\n",
    "so we just solve this by interpolation and prove that it worked."
   ]
  },
  {
   "cell_type": "code",
   "execution_count": 14,
   "metadata": {
    "collapsed": true
   },
   "outputs": [],
   "source": [
    "x_from_xi = interp1d(cdf_y, cdf_x)\n",
    "\n",
    "# Create 5000 samples from a uniform random deviate\n",
    "N = 5000\n",
    "xi = random(N)\n",
    "# Transform them\n",
    "x = x_from_xi(xi)"
   ]
  },
  {
   "cell_type": "code",
   "execution_count": 15,
   "metadata": {
    "collapsed": false
   },
   "outputs": [
    {
     "data": {
      "text/plain": [
       "<matplotlib.text.Text at 0x10faae7d0>"
      ]
     },
     "execution_count": 15,
     "metadata": {},
     "output_type": "execute_result"
    },
    {
     "data": {
      "image/png": "[encoded data removed]",
      "text/plain": [
       "<matplotlib.figure.Figure at 0x10f8ddf90>"
      ]
     },
     "metadata": {},
     "output_type": "display_data"
    }
   ],
   "source": [
    "# Plot histograms\n",
    "fig = plt.figure()\n",
    "figsize = fig.get_size_inches()\n",
    "figsize[0] *= 2\n",
    "fig.set_size_inches(figsize)\n",
    "ax1 = fig.add_subplot(121)\n",
    "ax1.hist(xi)\n",
    "ax1.set_xlabel('$\\\\xi$')\n",
    "ax1.set_ylabel('$P(\\\\xi)$')\n",
    "ax1.set_xlim(-0.2,1.2)\n",
    "ax2 = fig.add_subplot(122)\n",
    "ax2.hist(x)\n",
    "ax2.set_xlabel('$x$')\n",
    "ax2.set_ylabel('$P(x)$')"
   ]
  },
  {
   "cell_type": "markdown",
   "metadata": {},
   "source": [
    "Magic!!\n",
    "\n",
    "Note that your ability to reproduce the features in the original data is only as good as the original data. If the original data does not have enough samples to reveal fine structure, that fine structure will also be missing from your randomly generated data. It is also hard to reproduce low-probability tails correctly, again because they are often insufficiently sampled in the original data."
   ]
  },
  {
   "cell_type": "markdown",
   "metadata": {},
   "source": [
    "## Density and Probability\n",
    "Often when we create particle distributions, our goal is to generate a certain *density* distribution $\\rho(\\vec{r})$, which is not the same as a *probability* distribution.\n",
    "\n",
    "Consider the mass $dM$ in an infinitessimal volume $d^3r$:\n",
    "$$ dM = \\rho(\\vec{r})\\, d^3r $$\n",
    "If we sample the density distribution using $N$ particles of mass $m$, which are distributed according to a pdf $P(a_1, a_2, a_3)$ in 3 coordinates (which could be $x$, $y$, $z$ if working in Cartesian coordinates, but could also be $\\theta$, $\\phi$, $r$ in spherical coordiantes, etc), then that mass is also given by\n",
    "$$ dM = N m \\, P(a_1, a_2, a_3) \\, da_1\\, da_2\\, da_3 $$\n",
    "\n",
    "For example, consider working in spherical coordinates where $d^3r = r^2\\, \\sin\\theta\\, d\\theta\\, d\\phi\\, dr$, and trying to sample an isothermal density distribution:\n",
    "$$ \\rho(r) \\propto r^{-2} $$\n",
    "Looking at the two definitions of $dM$:\n",
    "$$ dM = A r^{-2} d^3r = A \\, \\sin\\theta\\, d\\theta\\, d\\phi\\, dr $$\n",
    "and\n",
    "$$ dM = N m \\, P(r, \\theta\\, \\phi)\\, d\\theta\\, d\\phi\\, dr $$\n",
    "\n",
    "Ignoring the normalization constant, which depends on the number of particles that you are sampling, it is clear that we can break the pdf $P(r, \\theta, \\phi)$ into individual PDFs for each coordinate on its own:\n",
    "$$ P(r, \\theta, \\phi) = P(r)\\, P(\\theta)\\, P(\\phi) $$\n",
    "where\n",
    "$$ P(r) = 1 $$\n",
    "$$ P(\\theta) = \\sin\\theta $$\n",
    "$$ P(\\phi) = 1 $$\n",
    "You can then use the techniques shown above to sample these distributions for each spherical coordinate.\n",
    "\n",
    "**Note**: Even though the density falls off as $r^{-2}$, $r$ is a uniform random deviate ($P(r)=1$) because of the $r^2$ increase in the volume element!"
   ]
  },
  {
   "cell_type": "code",
   "execution_count": null,
   "metadata": {
    "collapsed": true
   },
   "outputs": [],
   "source": []
  }
 ],
 "metadata": {
  "kernelspec": {
   "display_name": "Python 2",
   "language": "python",
   "name": "python2"
  },
  "language_info": {
   "codemirror_mode": {
    "name": "ipython",
    "version": 2
   },
   "file_extension": ".py",
   "mimetype": "text/x-python",
   "name": "python",
   "nbconvert_exporter": "python",
   "pygments_lexer": "ipython2",
   "version": "2.7.11"
  }
 },
 "nbformat": 4,
 "nbformat_minor": 0
}
