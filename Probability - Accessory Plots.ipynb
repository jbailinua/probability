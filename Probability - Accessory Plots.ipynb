{
 "cells": [
  {
   "cell_type": "markdown",
   "metadata": {},
   "source": [
    "Code for generating accessory plots in the <a href=\"http:Transformation%20of%20Probability%20-%20Generating%20Distributions.ipynb\">Transformation of Probability</a> tutorial."
   ]
  },
  {
   "cell_type": "code",
   "execution_count": 1,
   "metadata": {
    "collapsed": true
   },
   "outputs": [],
   "source": [
    "%matplotlib inline"
   ]
  },
  {
   "cell_type": "code",
   "execution_count": 2,
   "metadata": {
    "collapsed": true
   },
   "outputs": [],
   "source": [
    "# Imports\n",
    "import matplotlib.pyplot as plt\n",
    "import numpy as np"
   ]
  },
  {
   "cell_type": "code",
   "execution_count": 4,
   "metadata": {
    "collapsed": false
   },
   "outputs": [
    {
     "data": {
      "text/plain": [
       "([<matplotlib.axis.XTick at 0x10d4379d0>,\n",
       "  <matplotlib.axis.XTick at 0x10d437350>],\n",
       " <a list of 2 Text xticklabel objects>)"
      ]
     },
     "execution_count": 4,
     "metadata": {},
     "output_type": "execute_result"
    },
    {
     "data": {
      "image/png": "[encoded data removed]",
      "text/plain": [
       "<matplotlib.figure.Figure at 0x10a521050>"
      ]
     },
     "metadata": {},
     "output_type": "display_data"
    }
   ],
   "source": [
    "# Sketch of two simple PDFs\n",
    "plt.xkcd()\n",
    "fig = plt.figure()\n",
    "# figsize = fig.get_size_inches()\n",
    "# figsize[0] *= 2\n",
    "# fig.set_size_inches(figsize)\n",
    "\n",
    "\n",
    "# ax = fig.add_subplot(121)\n",
    "# ax.spines['right'].set_visible(False)\n",
    "# ax.spines['top'].set_visible(False)\n",
    "# ax.xaxis.set_ticks_position('bottom')\n",
    "# plt.yticks([])\n",
    "\n",
    "# plt.plot([0,0,1,1],[0,1,1,0])\n",
    "# plt.xlabel('$\\\\xi$')\n",
    "# plt.ylabel('$P(\\\\xi)$')\n",
    "# plt.xlim(-0.2,1.2)\n",
    "# plt.ylim(0,1.1)\n",
    "# plt.xticks([0,1])\n",
    "\n",
    "ax = fig.add_subplot(111)\n",
    "ax.spines['right'].set_visible(False)\n",
    "ax.spines['top'].set_visible(False)\n",
    "ax.xaxis.set_ticks_position('bottom')\n",
    "plt.yticks([])\n",
    "\n",
    "plt.plot([10,15,15],[0,1,0])\n",
    "plt.xlabel('y')\n",
    "plt.ylabel('g(y)')\n",
    "plt.xlim(8,17)\n",
    "plt.ylim(0,1.1)\n",
    "plt.xticks([10,15])"
   ]
  },
  {
   "cell_type": "code",
   "execution_count": null,
   "metadata": {
    "collapsed": true
   },
   "outputs": [],
   "source": []
  }
 ],
 "metadata": {
  "kernelspec": {
   "display_name": "Python 2",
   "language": "python",
   "name": "python2"
  },
  "language_info": {
   "codemirror_mode": {
    "name": "ipython",
    "version": 2
   },
   "file_extension": ".py",
   "mimetype": "text/x-python",
   "name": "python",
   "nbconvert_exporter": "python",
   "pygments_lexer": "ipython2",
   "version": "2.7.11"
  }
 },
 "nbformat": 4,
 "nbformat_minor": 0
}
